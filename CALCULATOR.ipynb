{
  "nbformat": 4,
  "nbformat_minor": 0,
  "metadata": {
    "colab": {
      "provenance": [],
      "authorship_tag": "ABX9TyNA5xSdNzHxO+70Jjc/B0if",
      "include_colab_link": true
    },
    "kernelspec": {
      "name": "python3",
      "display_name": "Python 3"
    },
    "language_info": {
      "name": "python"
    }
  },
  "cells": [
    {
      "cell_type": "markdown",
      "metadata": {
        "id": "view-in-github",
        "colab_type": "text"
      },
      "source": [
        "<a href=\"https://colab.research.google.com/github/harinekk/CALCULATOR/blob/main/CALCULATOR.ipynb\" target=\"_parent\"><img src=\"https://colab.research.google.com/assets/colab-badge.svg\" alt=\"Open In Colab\"/></a>"
      ]
    },
    {
      "cell_type": "markdown",
      "source": [],
      "metadata": {
        "id": "U5hdLaorlud9"
      }
    },
    {
      "cell_type": "code",
      "execution_count": 1,
      "metadata": {
        "colab": {
          "base_uri": "https://localhost:8080/"
        },
        "id": "P1ACeiO7kuSy",
        "outputId": "47769d7c-2724-4c3d-fda1-afcf127c0813"
      },
      "outputs": [
        {
          "output_type": "stream",
          "name": "stdout",
          "text": [
            "Select operation:\n",
            "+  Add\n",
            "-  Subtract\n",
            "*  Multiply\n",
            "/  Divide\n",
            "Enter operator (+, -, *, /): -\n",
            "Enter first number: 23\n",
            "Enter second number: 1\n",
            "23.0 - 1.0 = 22.0\n"
          ]
        }
      ],
      "source": [
        "# calculator.py\n",
        "\n",
        "def add(x, y):\n",
        "    return x + y\n",
        "\n",
        "def subtract(x, y):\n",
        "    return x - y\n",
        "\n",
        "def multiply(x, y):\n",
        "    return x * y\n",
        "\n",
        "def divide(x, y):\n",
        "    if y == 0:\n",
        "        return \"Error! Division by zero.\"\n",
        "    else:\n",
        "        return x / y\n",
        "\n",
        "print(\"Select operation:\")\n",
        "print(\"+  Add\")\n",
        "print(\"-  Subtract\")\n",
        "print(\"*  Multiply\")\n",
        "print(\"/  Divide\")\n",
        "\n",
        "operator = input(\"Enter operator (+, -, *, /): \")\n",
        "num1 = float(input(\"Enter first number: \"))\n",
        "num2 = float(input(\"Enter second number: \"))\n",
        "\n",
        "if operator == '+':\n",
        "    print(f\"{num1} + {num2} = {add(num1, num2)}\")\n",
        "elif operator == '-':\n",
        "    print(f\"{num1} - {num2} = {subtract(num1, num2)}\")\n",
        "elif operator == '*':\n",
        "    print(f\"{num1} * {num2} = {multiply(num1, num2)}\")\n",
        "elif operator == '/':\n",
        "    print(f\"{num1} / {num2} = {divide(num1, num2)}\")\n",
        "else:\n",
        "    print(\"Invalid operator!\")\n"
      ]
    }
  ]
}